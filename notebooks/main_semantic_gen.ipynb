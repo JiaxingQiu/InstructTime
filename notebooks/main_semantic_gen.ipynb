{
 "cells": [
  {
   "cell_type": "code",
   "execution_count": 1,
   "metadata": {},
   "outputs": [],
   "source": [
    "import os\n",
    "os.chdir(\"../script/VITAL\")\n",
    "\n",
    "overwrite = True\n",
    "dataset_name = 'air'\n",
    "attr_suffix = ''\n",
    "suffix = '_season' \n",
    "loo_text = \"The season is fall.\""
   ]
  },
  {
   "cell_type": "code",
   "execution_count": 2,
   "metadata": {},
   "outputs": [
    {
     "name": "stdout",
     "output_type": "stream",
     "text": [
      "Random seed set to 333\n",
      "using device:  cpu\n",
      "air_season\n",
      "\n",
      "\n",
      "final distribution of text prediction\n",
      "text\n",
      "The season is winter.    819\n",
      "The season is spring.    659\n",
      "The season is summer.    524\n",
      "Name: count, dtype: int64\n",
      "text\n",
      "The season is winter.    238\n",
      "The season is spring.    185\n",
      "The season is fall.      169\n",
      "The season is summer.    145\n",
      "Name: count, dtype: int64\n",
      "text\n",
      "The season is winter.    350\n",
      "The season is spring.    273\n",
      "The season is fall.      263\n",
      "The season is summer.    220\n",
      "Name: count, dtype: int64\n",
      "air_season\n",
      "standardization mean and std:  50.74245605584891 66.76654672489845\n"
     ]
    }
   ],
   "source": [
    "with open('run/settings.py', 'r') as file:\n",
    "    exec(file.read())\n",
    "\n",
    "model_name = ''.join([dataset_name, attr_suffix, suffix]) \n",
    "exec(open('run/configs/air_quality_season.py', 'r').read())\n",
    "if 'open_vocab' in locals(): config_dict = update_config(config_dict, open_vocab = open_vocab)\n",
    "exec(open('run/prepare_datasets/air_quality_season.py', 'r').read())\n",
    "exec(open('run/inputs.py', 'r').read())\n"
   ]
  },
  {
   "cell_type": "code",
   "execution_count": 3,
   "metadata": {},
   "outputs": [
    {
     "name": "stdout",
     "output_type": "stream",
     "text": [
      "air_season\n",
      "/Users/joyqiu/Documents/Documents JoyQiu Work/Research/LLMTimeSeries/InstructTime/script/VITAL/results/air_season\n",
      "===============================================================================================\n",
      "Layer (type:depth-idx)                                                 Param #\n",
      "===============================================================================================\n",
      "VITAL                                                                  --\n",
      "├─TSEncoder: 1-1                                                       --\n",
      "│    └─LocalNorm: 2-1                                                  --\n",
      "│    └─PatchCNNTSEncoder: 2-2                                          --\n",
      "│    │    └─ModuleList: 3-1                                            1,041,776\n",
      "│    │    └─LayerNorm: 3-2                                             1,536\n",
      "├─TextEncoder: 1-2                                                     --\n",
      "│    └─PatchMLPTextEncoder: 2-3                                        --\n",
      "│    │    └─ModuleList: 3-3                                            5,327,616\n",
      "├─TSDecoder: 1-3                                                       --\n",
      "│    └─SelfAttnDecoder: 2-4                                            --\n",
      "│    │    └─PositionalEncoding: 3-4                                    --\n",
      "│    │    └─Sequential: 3-5                                            28,372,992\n",
      "│    │    └─Sequential: 3-6                                            130,728\n",
      "===============================================================================================\n",
      "Total params: 34,874,648\n",
      "Trainable params: 34,874,648\n",
      "Non-trainable params: 0\n",
      "===============================================================================================\n",
      "air_season\n"
     ]
    }
   ],
   "source": [
    "with open('run/model.py', 'r') as file:\n",
    "    exec(file.read())"
   ]
  },
  {
   "cell_type": "code",
   "execution_count": 5,
   "metadata": {},
   "outputs": [
    {
     "name": "stdout",
     "output_type": "stream",
     "text": [
      "Epoch [0/2000] 2.12s\n",
      "\tTraining Loss: 503.455307\n",
      "\tTesting Loss: 273.043549\n",
      "\tLearning Rate: 0.000100000\n",
      "\talpha: 1.0, beta: 0.0\n",
      "\n",
      "Training interrupted by user. Saving current progress...\n"
     ]
    },
    {
     "ename": "IndexError",
     "evalue": "index 3 is out of bounds for axis 0 with size 3",
     "output_type": "error",
     "traceback": [
      "\u001b[31m---------------------------------------------------------------------------\u001b[39m",
      "\u001b[31mIndexError\u001b[39m                                Traceback (most recent call last)",
      "\u001b[36mCell\u001b[39m\u001b[36m \u001b[39m\u001b[32mIn[5]\u001b[39m\u001b[32m, line 2\u001b[39m\n\u001b[32m      1\u001b[39m \u001b[38;5;28;01mwith\u001b[39;00m \u001b[38;5;28mopen\u001b[39m(\u001b[33m'\u001b[39m\u001b[33mrun/train_2steps.py\u001b[39m\u001b[33m'\u001b[39m, \u001b[33m'\u001b[39m\u001b[33mr\u001b[39m\u001b[33m'\u001b[39m) \u001b[38;5;28;01mas\u001b[39;00m file:\n\u001b[32m----> \u001b[39m\u001b[32m2\u001b[39m     \u001b[43mexec\u001b[49m\u001b[43m(\u001b[49m\u001b[43mfile\u001b[49m\u001b[43m.\u001b[49m\u001b[43mread\u001b[49m\u001b[43m(\u001b[49m\u001b[43m)\u001b[49m\u001b[43m)\u001b[49m\n",
      "\u001b[36mFile \u001b[39m\u001b[32m<string>:9\u001b[39m\n",
      "\u001b[36mFile \u001b[39m\u001b[32m<string>:55\u001b[39m\n",
      "\u001b[36mFile \u001b[39m\u001b[32m~/anaconda3/envs/instime/lib/python3.12/site-packages/torch/utils/_contextlib.py:116\u001b[39m, in \u001b[36mcontext_decorator.<locals>.decorate_context\u001b[39m\u001b[34m(*args, **kwargs)\u001b[39m\n\u001b[32m    113\u001b[39m \u001b[38;5;129m@functools\u001b[39m.wraps(func)\n\u001b[32m    114\u001b[39m \u001b[38;5;28;01mdef\u001b[39;00m\u001b[38;5;250m \u001b[39m\u001b[34mdecorate_context\u001b[39m(*args, **kwargs):\n\u001b[32m    115\u001b[39m     \u001b[38;5;28;01mwith\u001b[39;00m ctx_factory():\n\u001b[32m--> \u001b[39m\u001b[32m116\u001b[39m         \u001b[38;5;28;01mreturn\u001b[39;00m \u001b[43mfunc\u001b[49m\u001b[43m(\u001b[49m\u001b[43m*\u001b[49m\u001b[43margs\u001b[49m\u001b[43m,\u001b[49m\u001b[43m \u001b[49m\u001b[43m*\u001b[49m\u001b[43m*\u001b[49m\u001b[43mkwargs\u001b[49m\u001b[43m)\u001b[49m\n",
      "\u001b[36mFile \u001b[39m\u001b[32m~/Documents/Documents JoyQiu Work/Research/LLMTimeSeries/InstructTime/script/VITAL/eval_utils/eval_clip_ts2txt.py:86\u001b[39m, in \u001b[36meval_clip_ts2txt\u001b[39m\u001b[34m(model, eval_inputs, return_probs, batch_size)\u001b[39m\n\u001b[32m     83\u001b[39m softmax_probs = exp_preds / exp_preds.sum(dim=\u001b[32m1\u001b[39m, keepdim=\u001b[38;5;28;01mTrue\u001b[39;00m)\n\u001b[32m     84\u001b[39m y_prob = softmax_probs\n\u001b[32m---> \u001b[39m\u001b[32m86\u001b[39m eval_metrics = \u001b[43mget_eval_metrics\u001b[49m\u001b[43m(\u001b[49m\u001b[43my_true\u001b[49m\u001b[43m,\u001b[49m\u001b[43m \u001b[49m\u001b[43my_prob\u001b[49m\u001b[43m)\u001b[49m\n\u001b[32m     88\u001b[39m \u001b[38;5;66;03m# Delete large tensors\u001b[39;00m\n\u001b[32m     89\u001b[39m \u001b[38;5;28;01mdel\u001b[39;00m obs_ys_logits, exp_preds, softmax_probs\n",
      "\u001b[36mFile \u001b[39m\u001b[32m~/Documents/Documents JoyQiu Work/Research/LLMTimeSeries/InstructTime/script/VITAL/eval_utils/eval_clip.py:75\u001b[39m, in \u001b[36mget_eval_metrics\u001b[39m\u001b[34m(y_true, y_prob)\u001b[39m\n\u001b[32m     69\u001b[39m precision, recall, f1, support = precision_recall_fscore_support(\n\u001b[32m     70\u001b[39m     y_true_labels, y_pred_labels, average=\u001b[38;5;28;01mNone\u001b[39;00m, zero_division=\u001b[32m0\u001b[39m\n\u001b[32m     71\u001b[39m )\n\u001b[32m     73\u001b[39m \u001b[38;5;28;01mfor\u001b[39;00m i \u001b[38;5;129;01min\u001b[39;00m \u001b[38;5;28mrange\u001b[39m(y_true.shape[\u001b[32m1\u001b[39m]):\n\u001b[32m     74\u001b[39m     class_metrics[i] = {  \u001b[38;5;66;03m# Use index directly as key\u001b[39;00m\n\u001b[32m---> \u001b[39m\u001b[32m75\u001b[39m         \u001b[33m'\u001b[39m\u001b[33mprecision\u001b[39m\u001b[33m'\u001b[39m: \u001b[43mprecision\u001b[49m\u001b[43m[\u001b[49m\u001b[43mi\u001b[49m\u001b[43m]\u001b[49m,\n\u001b[32m     76\u001b[39m         \u001b[33m'\u001b[39m\u001b[33mrecall\u001b[39m\u001b[33m'\u001b[39m: recall[i],\n\u001b[32m     77\u001b[39m         \u001b[33m'\u001b[39m\u001b[33mf1\u001b[39m\u001b[33m'\u001b[39m: f1[i],\n\u001b[32m     78\u001b[39m         \u001b[33m'\u001b[39m\u001b[33msupport\u001b[39m\u001b[33m'\u001b[39m: support[i]\n\u001b[32m     79\u001b[39m     }\n\u001b[32m     80\u001b[39m metrics[\u001b[33m'\u001b[39m\u001b[33mper_class\u001b[39m\u001b[33m'\u001b[39m] = class_metrics\n\u001b[32m     82\u001b[39m \u001b[38;5;66;03m# Confusion Matrix\u001b[39;00m\n",
      "\u001b[31mIndexError\u001b[39m: index 3 is out of bounds for axis 0 with size 3"
     ]
    }
   ],
   "source": [
    "with open('run/train_2steps.py', 'r') as file:\n",
    "    exec(file.read())"
   ]
  },
  {
   "cell_type": "code",
   "execution_count": null,
   "metadata": {},
   "outputs": [],
   "source": []
  }
 ],
 "metadata": {
  "kernelspec": {
   "display_name": "instime",
   "language": "python",
   "name": "python3"
  },
  "language_info": {
   "codemirror_mode": {
    "name": "ipython",
    "version": 3
   },
   "file_extension": ".py",
   "mimetype": "text/x-python",
   "name": "python",
   "nbconvert_exporter": "python",
   "pygments_lexer": "ipython3",
   "version": "3.12.11"
  }
 },
 "nbformat": 4,
 "nbformat_minor": 2
}
