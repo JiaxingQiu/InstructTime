{
 "cells": [
  {
   "cell_type": "code",
   "execution_count": null,
   "id": "61455636-1c50-4290-9894-2ad3179fba5c",
   "metadata": {},
   "outputs": [],
   "source": [
    "import os\n",
    "\n",
    "root_dir = \".\"\n",
    "\n",
    "# Step 1: Remove unwanted files\n",
    "for dirpath, dirnames, filenames in os.walk(root_dir):\n",
    "    for fname in filenames:\n",
    "        if not (fname.endswith(\".csv\") or fname == \"model_best.pth\"):\n",
    "            full_path = os.path.join(dirpath, fname)\n",
    "            os.remove(full_path)\n",
    "            print(f\"Removed file: {full_path}\")\n",
    "\n",
    "# Step 2: Remove empty directories (bottom-up)\n",
    "for dirpath, dirnames, filenames in os.walk(root_dir, topdown=False):\n",
    "    if not os.listdir(dirpath):  # Directory is empty\n",
    "        os.rmdir(dirpath)\n",
    "        print(f\"Removed empty folder: {dirpath}\")\n"
   ]
  },
  {
   "cell_type": "code",
   "execution_count": null,
   "id": "fb8f2a5c-5b6f-41fa-8ae4-691e0f0eb706",
   "metadata": {},
   "outputs": [],
   "source": []
  }
 ],
 "metadata": {
  "kernelspec": {
   "display_name": "INSTIME",
   "language": "python",
   "name": "instime"
  },
  "language_info": {
   "codemirror_mode": {
    "name": "ipython",
    "version": 3
   },
   "file_extension": ".py",
   "mimetype": "text/x-python",
   "name": "python",
   "nbconvert_exporter": "python",
   "pygments_lexer": "ipython3",
   "version": "3.12.7"
  }
 },
 "nbformat": 4,
 "nbformat_minor": 5
}
