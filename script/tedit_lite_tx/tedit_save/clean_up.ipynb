{
 "cells": [
  {
   "cell_type": "code",
   "execution_count": null,
   "id": "2ae570ae-b83c-4a52-bb37-d413efb6fc5e",
   "metadata": {},
   "outputs": [],
   "source": [
    "import os\n",
    "\n",
    "root_dir = \".\"\n",
    "\n",
    "# Step 1: Remove unwanted files\n",
    "for dirpath, dirnames, filenames in os.walk(root_dir):\n",
    "    for fname in filenames:\n",
    "        if not (fname.endswith(\".csv\") or fname == \"model_best.pth\"):\n",
    "            full_path = os.path.join(dirpath, fname)\n",
    "            os.remove(full_path)\n",
    "            print(f\"Removed file: {full_path}\")\n",
    "\n",
    "# Step 2: Remove empty directories (bottom-up)\n",
    "for dirpath, dirnames, filenames in os.walk(root_dir, topdown=False):\n",
    "    if not os.listdir(dirpath):  # Directory is empty\n",
    "        os.rmdir(dirpath)\n",
    "        print(f\"Removed empty folder: {dirpath}\")\n"
   ]
  },
  {
   "cell_type": "code",
   "execution_count": null,
   "id": "0ae5646c-8c1f-44d8-b8f9-140f1840961e",
   "metadata": {},
   "outputs": [],
   "source": []
  }
 ],
 "metadata": {
  "kernelspec": {
   "display_name": "AMPTorch (20201028) Active Learning",
   "language": "python",
   "name": "amptorch-20201028-al"
  },
  "language_info": {
   "codemirror_mode": {
    "name": "ipython",
    "version": 3
   },
   "file_extension": ".py",
   "mimetype": "text/x-python",
   "name": "python",
   "nbconvert_exporter": "python",
   "pygments_lexer": "ipython3",
   "version": "3.6.13"
  }
 },
 "nbformat": 4,
 "nbformat_minor": 5
}
